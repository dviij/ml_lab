{
 "cells": [
  {
   "cell_type": "markdown",
   "metadata": {},
   "source": [
    "# Q1"
   ]
  },
  {
   "cell_type": "code",
   "execution_count": 5,
   "metadata": {},
   "outputs": [],
   "source": [
    "import numpy as np\n",
    "import pandas as pd\n"
   ]
  },
  {
   "cell_type": "code",
   "execution_count": 8,
   "metadata": {},
   "outputs": [
    {
     "name": "stdout",
     "output_type": "stream",
     "text": [
      "Prob of being hosteler given got an A:  0.69\n"
     ]
    }
   ],
   "source": [
    "df = pd.read_csv('nb.csv')\n",
    "\n",
    "pH = 0.6\n",
    "pDS = 0.4\n",
    "pHAy = 0.3\n",
    "pDSAy = 0.2\n",
    "\n",
    "pA = pH*pHAy + pDS*pDSAy\n",
    "pHA = pH*pHAy\n",
    "\n",
    "pHc = pHA/pA\n",
    "print(f'Prob of being hosteler given got an A: {pHc: .2f}')\n",
    "\n"
   ]
  },
  {
   "cell_type": "code",
   "execution_count": 9,
   "metadata": {},
   "outputs": [
    {
     "name": "stdout",
     "output_type": "stream",
     "text": [
      "Prob of having disease given +ve test:  0.33\n"
     ]
    }
   ],
   "source": [
    "pDp = 0.01\n",
    "pNDp = 0.99\n",
    "pCI = 0.99\n",
    "pWI = 0.02\n",
    "\n",
    "pPT = pDp*pCI + pNDp*pWI\n",
    "pD = pDp*pCI\n",
    "\n",
    "pDT = pD/pPT\n",
    "print(f'Prob of having disease given +ve test: {pDT: .2f}')\n",
    "\n"
   ]
  },
  {
   "cell_type": "markdown",
   "metadata": {},
   "source": [
    "# Q2"
   ]
  },
  {
   "cell_type": "code",
   "execution_count": 14,
   "metadata": {},
   "outputs": [
    {
     "name": "stdout",
     "output_type": "stream",
     "text": [
      "Play\n"
     ]
    }
   ],
   "source": [
    "df = pd.read_csv('/home/Student/nb.csv')\n",
    "\n",
    "total = len(df[df['Outlook'] == 'sunny'])\n",
    "pY = len(df[(df['Outlook'] == 'sunny') & (df['Play'] == 'yes')])/total\n",
    "pN = len(df[(df['Outlook'] == 'sunny') & (df['Play'] == 'no')])/total\n",
    "\n",
    "if pY > pN:\n",
    "    print('Play')\n",
    "else:\n",
    "    print('No play')\n",
    "\n"
   ]
  },
  {
   "cell_type": "code",
   "execution_count": null,
   "metadata": {},
   "outputs": [],
   "source": []
  },
  {
   "cell_type": "code",
   "execution_count": null,
   "metadata": {},
   "outputs": [],
   "source": []
  }
 ],
 "metadata": {
  "kernelspec": {
   "display_name": "Python 3",
   "language": "python",
   "name": "python3"
  },
  "language_info": {
   "codemirror_mode": {
    "name": "ipython",
    "version": 3
   },
   "file_extension": ".py",
   "mimetype": "text/x-python",
   "name": "python",
   "nbconvert_exporter": "python",
   "pygments_lexer": "ipython3",
   "version": "3.8.10"
  }
 },
 "nbformat": 4,
 "nbformat_minor": 4
}
