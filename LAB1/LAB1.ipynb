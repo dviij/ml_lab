{
 "cells": [
  {
   "cell_type": "code",
   "execution_count": 7,
   "metadata": {},
   "outputs": [
    {
     "data": {
      "text/plain": [
       "array([[0, 1, 2],\n",
       "       [3, 4, 5],\n",
       "       [6, 7, 8]])"
      ]
     },
     "execution_count": 7,
     "metadata": {},
     "output_type": "execute_result"
    }
   ],
   "source": [
    "##q1\n",
    "import numpy as np \n",
    "##arr=np.array([0,1,2,3,4,5,6,7,8])\n",
    "##arr1=np.arange(arr).reshape(3,3)\n",
    "arr=np.arange(9).reshape(3,3)\n",
    "arr"
   ]
  },
  {
   "cell_type": "code",
   "execution_count": 10,
   "metadata": {},
   "outputs": [
    {
     "name": "stdout",
     "output_type": "stream",
     "text": [
      "[ 0 -1  2 -1  4 -1  6 -1  8 -1]\n"
     ]
    }
   ],
   "source": [
    "##q2\n",
    "import numpy as np\n",
    "arr=np.array([0,1,2,3,4,5,6,7,8,9])\n",
    "result=np.where(arr%2!=0,-1,arr)\n",
    "print(result)"
   ]
  },
  {
   "cell_type": "code",
   "execution_count": 13,
   "metadata": {},
   "outputs": [
    {
     "name": "stdout",
     "output_type": "stream",
     "text": [
      "(array([1, 2, 4, 5, 6, 7, 8, 9]),)\n",
      "(array([0]),)\n"
     ]
    }
   ],
   "source": [
    "##q3\n",
    "import numpy as np\n",
    "x = np.array([21, 64, 86, 22, 74, 55, 81, 79, 90, 89]) \n",
    "y = np.array([21, 7, 3, 45, 10, 29, 55, 4, 37, 18])\n",
    "greater_array=np.where(x>y)\n",
    "print(greater_array)\n",
    "equal_array=np.where(x==y)\n",
    "print(equal_array)"
   ]
  },
  {
   "cell_type": "code",
   "execution_count": 49,
   "metadata": {},
   "outputs": [
    {
     "name": "stdout",
     "output_type": "stream",
     "text": [
      "[[ 0  1  2  3]\n",
      " [20 21 22 23]\n",
      " [40 41 42 43]\n",
      " [60 61 62 63]\n",
      " [80 81 82 83]]\n"
     ]
    }
   ],
   "source": [
    "##q4\n",
    "import numpy as np\n",
    "arr=np.arange(100).reshape(5,-1)\n",
    "##final=np.where(arr(5,4))\n",
    "print(arr[:,:4])"
   ]
  },
  {
   "cell_type": "code",
   "execution_count": 66,
   "metadata": {},
   "outputs": [
    {
     "name": "stdout",
     "output_type": "stream",
     "text": [
      "[30 39 39 32 40 30 38 40 37 30]\n"
     ]
    }
   ],
   "source": [
    "##q1_additional_questions\n",
    "import numpy as np\n",
    "array = np.random.randint(30, 41, size=10)\n",
    "print(array)"
   ]
  },
  {
   "cell_type": "code",
   "execution_count": 88,
   "metadata": {},
   "outputs": [
    {
     "name": "stdout",
     "output_type": "stream",
     "text": [
      "the addition is \n",
      "  [[ 8 10 13]\n",
      " [ 8 10 12]\n",
      " [ 8 10 13]]\n",
      "the substraction is \n",
      " [[-7 -6 -6]\n",
      " [ 0  0  0]\n",
      " [ 6  6  7]]\n",
      "the sum of the matrix a is \t 46\n",
      "the sum of the columns of the b matrix is \n",
      " [12 15 19]\n",
      "the sum of the columns of the c matrix is \n",
      " [31 30 31]\n",
      "the multipication of the D matrix is \n",
      " [[ 18  24  31]\n",
      " [ 54  69  88]\n",
      " [ 91 116 148]]\n",
      "the transpose of the E matrix is \n",
      "  [[-7  0  6]\n",
      " [-6  0  6]\n",
      " [-6  0  7]]\n"
     ]
    }
   ],
   "source": [
    "import numpy as np\n",
    "A=np.array([(1,2,3),(4,5,6),(7,8,10)])\n",
    "B=np.array([(7,8,10),(4,5,6),(1,2,3)])\n",
    "C=A+B\n",
    "E=A-B\n",
    "\n",
    "SumA=np.sum(A)\n",
    "SumB=np.sum(B,axis=0)\n",
    "SumC=np.sum(C,axis=1)\n",
    "\n",
    "D = np.matmul(A, B)\n",
    "E = np.sort(E)\n",
    "transE=E.T\n",
    "\n",
    "\n",
    "\n",
    "print(\"the addition is \\n \",C)\n",
    "print(\"the substraction is \\n\",E)\n",
    "print(\"the sum of the matrix a is \\t\",SumA)\n",
    "print(\"the sum of the columns of the b matrix is \\n\",SumB)\n",
    "print(\"the sum of the columns of the c matrix is \\n\",SumC)\n",
    "print(\"the multipication of the D matrix is \\n\",D)\n",
    "print(\"the transpose of the E matrix is \\n \",transE)"
   ]
  },
  {
   "cell_type": "code",
   "execution_count": 90,
   "metadata": {},
   "outputs": [
    {
     "name": "stdout",
     "output_type": "stream",
     "text": [
      "['prog languages ; designed by ; abcd;']\n",
      "['hello world']\n",
      "['india usa ']\n",
      "['jaava python']\n"
     ]
    },
    {
     "ename": "NameError",
     "evalue": "name 'reader' is not defined",
     "output_type": "error",
     "traceback": [
      "\u001b[0;31m---------------------------------------------------------------------------\u001b[0m",
      "\u001b[0;31mNameError\u001b[0m                                 Traceback (most recent call last)",
      "\u001b[0;32m<ipython-input-90-3a03683d4dd4>\u001b[0m in \u001b[0;36m<module>\u001b[0;34m\u001b[0m\n\u001b[1;32m      4\u001b[0m     \u001b[0;32mfor\u001b[0m \u001b[0mrow\u001b[0m \u001b[0;32min\u001b[0m \u001b[0mdata\u001b[0m\u001b[0;34m:\u001b[0m\u001b[0;34m\u001b[0m\u001b[0;34m\u001b[0m\u001b[0m\n\u001b[1;32m      5\u001b[0m         \u001b[0mprint\u001b[0m\u001b[0;34m(\u001b[0m\u001b[0mrow\u001b[0m\u001b[0;34m)\u001b[0m\u001b[0;34m\u001b[0m\u001b[0;34m\u001b[0m\u001b[0m\n\u001b[0;32m----> 6\u001b[0;31m \u001b[0;32mfor\u001b[0m \u001b[0mraw\u001b[0m \u001b[0;32min\u001b[0m \u001b[0mreader\u001b[0m\u001b[0;34m:\u001b[0m\u001b[0;34m\u001b[0m\u001b[0;34m\u001b[0m\u001b[0m\n\u001b[0m\u001b[1;32m      7\u001b[0m     \u001b[0mprint\u001b[0m\u001b[0;34m(\u001b[0m\u001b[0mraw\u001b[0m\u001b[0;34m)\u001b[0m\u001b[0;34m\u001b[0m\u001b[0;34m\u001b[0m\u001b[0m\n",
      "\u001b[0;31mNameError\u001b[0m: name 'reader' is not defined"
     ]
    }
   ],
   "source": [
    "import csv \n",
    "with open('/home/student/Desktop/data.csv','rt')as f:\n",
    "    data=csv.reader(f)\n",
    "    for row in data:\n",
    "        print(row)\n"
   ]
  },
  {
   "cell_type": "code",
   "execution_count": 95,
   "metadata": {},
   "outputs": [
    {
     "name": "stdout",
     "output_type": "stream",
     "text": [
      "OrderedDict([('prog languages ; designed by ; abcd;', 'hello world')])\n",
      "OrderedDict([('prog languages ; designed by ; abcd;', 'india usa ')])\n",
      "OrderedDict([('prog languages ; designed by ; abcd;', 'jaava python')])\n"
     ]
    }
   ],
   "source": [
    "import csv \n",
    "reader=csv.DictReader(open('/home/student/Desktop/data.csv','rt'))\n",
    "for raw in reader:\n",
    "    print(raw)"
   ]
  },
  {
   "cell_type": "code",
   "execution_count": null,
   "metadata": {},
   "outputs": [],
   "source": []
  }
 ],
 "metadata": {
  "kernelspec": {
   "display_name": "Python 3",
   "language": "python",
   "name": "python3"
  },
  "language_info": {
   "codemirror_mode": {
    "name": "ipython",
    "version": 3
   },
   "file_extension": ".py",
   "mimetype": "text/x-python",
   "name": "python",
   "nbconvert_exporter": "python",
   "pygments_lexer": "ipython3",
   "version": "3.7.0"
  }
 },
 "nbformat": 4,
 "nbformat_minor": 2
}
